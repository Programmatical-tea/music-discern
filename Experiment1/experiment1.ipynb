{
 "cells": [
  {
   "cell_type": "markdown",
   "metadata": {},
   "source": [
    "## Experiment 1: (2022-07-28~)\n",
    "- - -\n",
    "#### 0. Preprocessing / (Done on seperate file)\n",
    "Urbansound8k Dataset i){8732(<=4s).wav files/10 folders(must be separated)} => Noise data    \n",
    "MTG-jamendo Dataset i){}=> Music data   \n",
    "For easy labeling, we need to save the labels along with the data ( X.npy = [ data , label ] )\n",
    "\n",
    "#### 1. Initialize input pipeline\n",
    "\n",
    "\n",
    "#### 2. Model initialization\n",
    "\n",
    "\n",
    "#### 3. Training & Evaluation\n",
    "\n",
    "- - -"
   ]
  },
  {
   "cell_type": "code",
   "execution_count": 1,
   "metadata": {},
   "outputs": [],
   "source": [
    "import os\n",
    "import numpy as np\n",
    "import matplotlib.pyplot as plt\n",
    " \n",
    "import tensorflow as tf\n",
    "from tensorflow import keras\n",
    "from tensorflow.keras import layers\n",
    "\n",
    "import tensorflow_addons as tfa\n",
    "\n",
    "import pathlib\n",
    "\n",
    "import librosa\n",
    "\n",
    "import soundfile as sf\n",
    "\n",
    "from tqdm import tqdm\n",
    "\n",
    "from IPython.display import clear_output\n",
    "\n",
    "autotune = tf.data.AUTOTUNE"
   ]
  },
  {
   "cell_type": "code",
   "execution_count": 2,
   "metadata": {},
   "outputs": [
    {
     "name": "stdout",
     "output_type": "stream",
     "text": [
      "1 Physical GPUs, 1 Logical GPUs\n"
     ]
    }
   ],
   "source": [
    "gpus = tf.config.experimental.list_physical_devices('GPU')\n",
    "if gpus:\n",
    "    try:\n",
    "        # Currently, memory growth needs to be the same across GPUs\n",
    "        for gpu in gpus:\n",
    "            tf.config.experimental.set_memory_growth(gpu, True)\n",
    "            tf.config.experimental.set_virtual_device_configuration(gpu, [tf.config.experimental.VirtualDeviceConfiguration(memory_limit=1024*11)])\n",
    "        logical_gpus = tf.config.experimental.list_logical_devices('GPU')\n",
    "        print(len(gpus), \"Physical GPUs,\", len(logical_gpus), \"Logical GPUs\")\n",
    "    except RuntimeError as e:\n",
    "        # Memory growth must be set before GPUs have been initialized\n",
    "        print(e)"
   ]
  },
  {
   "cell_type": "markdown",
   "metadata": {},
   "source": [
    "## 1. Initializing Input Pipeline   \n",
    "(planned 22.08.08)   \n",
    "* First define the raw tf.data.Datasets.   \n",
    "* Make a function that preprocesses the training datasets.\n",
    "* Use tf.data.Dataset.map to create the fully processed dataset.\n",
    "* Then make a function that finds the labels for each of the training datasets.   \n",
    "* Use tf.data.Dataset.map to create the label Dataset.   \n",
    "* Then combine them with tf.data.Dataset.zip.   \n",
    "* Then Shuffle & Configure for performance"
   ]
  },
  {
   "cell_type": "code",
   "execution_count": 41,
   "metadata": {},
   "outputs": [],
   "source": [
    "IMAGE_SIZE = 513*345\n",
    "IMAGE_DIM = [513,345]\n",
    "\n",
    "# Training\n",
    "batch_size = 1"
   ]
  },
  {
   "cell_type": "code",
   "execution_count": 2,
   "metadata": {},
   "outputs": [
    {
     "name": "stdout",
     "output_type": "stream",
     "text": [
      "[WindowsPath('D:/전재원졸업연구/music-discern/Datasets/Urbansound8K/processed/fold1'), WindowsPath('D:/전재원졸업연구/music-discern/Datasets/Urbansound8K/processed/fold2'), WindowsPath('D:/전재원졸업연구/music-discern/Datasets/Urbansound8K/processed/fold3'), WindowsPath('D:/전재원졸업연구/music-discern/Datasets/Urbansound8K/processed/fold4'), WindowsPath('D:/전재원졸업연구/music-discern/Datasets/Urbansound8K/processed/fold5'), WindowsPath('D:/전재원졸업연구/music-discern/Datasets/Urbansound8K/processed/fold6'), WindowsPath('D:/전재원졸업연구/music-discern/Datasets/Urbansound8K/processed/fold7'), WindowsPath('D:/전재원졸업연구/music-discern/Datasets/Urbansound8K/processed/fold8'), WindowsPath('D:/전재원졸업연구/music-discern/Datasets/Urbansound8K/processed/fold9'), WindowsPath('D:/전재원졸업연구/music-discern/Datasets/Urbansound8K/processed/fold10')]\n",
      "[WindowsPath('D:/전재원졸업연구/music-discern/Datasets/MTGJamendo/processed/fold1'), WindowsPath('D:/전재원졸업연구/music-discern/Datasets/MTGJamendo/processed/fold2'), WindowsPath('D:/전재원졸업연구/music-discern/Datasets/MTGJamendo/processed/fold3'), WindowsPath('D:/전재원졸업연구/music-discern/Datasets/MTGJamendo/processed/fold4'), WindowsPath('D:/전재원졸업연구/music-discern/Datasets/MTGJamendo/processed/fold5'), WindowsPath('D:/전재원졸업연구/music-discern/Datasets/MTGJamendo/processed/fold6'), WindowsPath('D:/전재원졸업연구/music-discern/Datasets/MTGJamendo/processed/fold7'), WindowsPath('D:/전재원졸업연구/music-discern/Datasets/MTGJamendo/processed/fold8'), WindowsPath('D:/전재원졸업연구/music-discern/Datasets/MTGJamendo/processed/fold9'), WindowsPath('D:/전재원졸업연구/music-discern/Datasets/MTGJamendo/processed/fold10')]\n"
     ]
    }
   ],
   "source": [
    "base_path = pathlib.Path('D:/전재원졸업연구/music-discern/Datasets/') # Edit on other computers\n",
    "\n",
    "#Urbansound is nested in Datasets/Urbansound8K/audio/fold**\n",
    "#Urbansound is already separated into batches, which need to be preserved.\n",
    "urban_metadata_path = pathlib.Path(base_path/'Urbansound8K/metadata')\n",
    "urban_audio_folders_path = pathlib.Path(base_path/'Urbansound8K/processed')\n",
    "urban_audio_path_list = [x for x in urban_audio_folders_path.iterdir()]\n",
    "temp = urban_audio_path_list.pop(1)\n",
    "urban_audio_path_list.append(temp)\n",
    "\n",
    "#Jamendo is nested in Datasets/MTGJamendo/audio\n",
    "#Jamendo is not separated in batches, so we need to separate it into 10 batches, matching urbansound.\n",
    "jamendo_metadata_path = pathlib.Path(base_path/'MTGJamendo/metadata')\n",
    "jamendo_audio_folders_path = pathlib.Path(base_path/'MTGJamendo/processed')\n",
    "jamendo_audio_path_list = [x for x in jamendo_audio_folders_path.iterdir()]\n",
    "temp = jamendo_audio_path_list.pop(1)\n",
    "jamendo_audio_path_list.append(temp)\n",
    "\n",
    "\n",
    "#for later -> add a path for any .wav file that I want to observe.\n",
    "test_subjects_path = pathlib.Path(\"./\")\n",
    "\n",
    "Train = [0,1,2,3,4,5,6,7,8]\n",
    "Test = [9] #Seperation, for later evaluation in Training step B\n",
    "\n",
    "print(urban_audio_path_list)\n",
    "print(jamendo_audio_path_list)"
   ]
  },
  {
   "cell_type": "code",
   "execution_count": 40,
   "metadata": {},
   "outputs": [],
   "source": [
    "dataset_for_training_A = \"empty\"\n",
    "dataset_for_training_B_train = \"empty\"\n",
    "dataset_for_training_B_test = \"empty\"\n",
    "\n",
    "dataset_for_training_A = tf.data.Dataset.list_files(str(urban_audio_folders_path/'*/*.npy'))\n",
    "dataset_for_training_A = dataset_for_training_A.concatenate( tf.data.Dataset.list_files(str(jamendo_audio_folders_path/'*/*.npy')) )\n",
    "\n",
    "for k in Train:\n",
    "    temp_path_urban = str(urban_audio_path_list[k])\n",
    "    temp_path_jam = str(jamendo_audio_path_list[k])\n",
    "    if dataset_for_training_B_train == \"empty\":\n",
    "        dataset_for_training_B_train = tf.data.Dataset.list_files(temp_path_urban + '/*.npy')\n",
    "        dataset_for_training_B_train = dataset_for_training_B_train.concatenate( tf.data.Dataset.list_files(temp_path_jam + '/*.npy') )\n",
    "    else:\n",
    "        dataset_for_training_B_train = dataset_for_training_B_train.concatenate( tf.data.Dataset.list_files(temp_path_urban + '/*.npy') )\n",
    "        dataset_for_training_B_train = dataset_for_training_B_train.concatenate( tf.data.Dataset.list_files(temp_path_jam + '/*.npy') )\n",
    "\n",
    "for k in Test:\n",
    "    temp_path_urban = str(urban_audio_path_list[k])\n",
    "    temp_path_jam = str(jamendo_audio_path_list[k])\n",
    "    if dataset_for_training_B_test == \"empty\":\n",
    "        dataset_for_training_B_test = tf.data.Dataset.list_files(temp_path_urban + '/*.npy')\n",
    "        dataset_for_training_B_test = dataset_for_training_B_test.concatenate( tf.data.Dataset.list_files(temp_path_jam + '/*.npy') )\n",
    "    else:\n",
    "        dataset_for_training_B_test = dataset_for_training_B_test.concatenate( tf.data.Dataset.list_files(temp_path_urban + '/*.npy') )\n",
    "        dataset_for_training_B_test = dataset_for_training_B_test.concatenate( tf.data.Dataset.list_files(temp_path_jam + '/*.npy') )\n",
    "\n",
    "# returns dataset for training A, dataset for training B Train, dataset for training B Test"
   ]
  },
  {
   "cell_type": "code",
   "execution_count": 42,
   "metadata": {},
   "outputs": [
    {
     "name": "stdout",
     "output_type": "stream",
     "text": [
      "tf.Tensor(b'D:\\\\\\xec\\xa0\\x84\\xec\\x9e\\xac\\xec\\x9b\\x90\\xec\\xa1\\xb8\\xec\\x97\\x85\\xec\\x97\\xb0\\xea\\xb5\\xac\\\\music-discern\\\\Datasets\\\\Urbansound8K\\\\processed\\\\fold8\\\\71177-8-2-0_noise_0.npy', shape=(), dtype=string)\n",
      "tf.Tensor(b'noise', shape=(), dtype=string)\n",
      "complex64\n",
      "tf.Tensor(\n",
      "[[ 9.2683859e-02+0.0000000e+00j -2.2940416e-02+2.1145932e-01j\n",
      "  -1.7487489e-01-3.4585261e-01j ...  1.1186663e-02-9.8369382e-03j\n",
      "  -1.0906712e-02+1.3434681e-02j  8.1001036e-03-1.4528953e-02j]\n",
      " [-6.7503089e-03+1.3567344e-02j  6.4922301e-03-1.2852893e-02j\n",
      "  -6.1244876e-03+1.2959077e-02j ...  2.8476156e-02+3.9916214e-02j\n",
      "  -3.1287868e-02-4.9197387e-02j  3.2657418e-02+2.7656902e-02j]\n",
      " [-9.2140920e-03-1.9977847e-02j -1.6075812e-02+6.8027689e-03j\n",
      "   1.4415859e-02+1.3888902e-02j ...  7.1546338e-02+9.6227443e-01j\n",
      "  -6.8956472e-02-7.0292163e-01j  2.0028234e-01-1.3238974e-01j]\n",
      " ...\n",
      " [ 1.9950146e-06-2.6052321e-06j  1.4626867e-06+1.5176863e-06j\n",
      "  -6.7456091e-07-4.7771567e-07j ...  2.9791694e-04+2.5267011e-04j\n",
      "  -9.1383525e-04-3.3232546e-04j  3.7860268e-04-1.8902661e-04j]\n",
      " [ 2.8681033e-04+4.7682470e-06j -2.5390269e-04+1.2577375e-04j\n",
      "   3.3439772e-04-3.2296893e-04j ... -1.9824081e-03+5.4428866e-04j\n",
      "   7.9521298e-04-5.5727887e-05j  9.1596658e-04+1.3037201e-03j]\n",
      " [-1.0164568e-03-4.0368196e-03j -4.7248485e-04+5.7272087e-03j\n",
      "   1.3698636e-03-5.1184576e-03j ...  1.7053999e-05-1.5035211e-04j\n",
      "   1.0156999e-04+1.1254759e-04j -1.5237679e-04+0.0000000e+00j]], shape=(513, 345), dtype=complex64)\n"
     ]
    }
   ],
   "source": [
    "for f in dataset_for_training_A.take(1):\n",
    "    print(f)\n",
    "    print(tf.strings.split( tf.strings.split( f,os.sep )[-1],sep=\"_\" )[1])\n",
    "    A = np.load(f.numpy(),allow_pickle=True)\n",
    "    print(A.dtype)\n",
    "    img = tf.io.read_file(f)\n",
    "    img = tf.io.decode_raw(img,tf.complex64)\n",
    "    img = tf.slice(img,begin=[16],size=[IMAGE_SIZE])\n",
    "    img = tf.reshape(img,[513,345])\n",
    "    print(img)"
   ]
  },
  {
   "cell_type": "code",
   "execution_count": 46,
   "metadata": {},
   "outputs": [],
   "source": [
    "def process_image(image):\n",
    "    #make the images into spectrograms\n",
    "    processed_img = tf.pow(tf.abs(image),2)\n",
    "    #normalize the images?\n",
    "    return processed_img\n",
    "\n",
    "def process_path_A(path):\n",
    "    #for training A, the label is just itself so we need to take that into account\n",
    "    img = tf.io.read_file(path)\n",
    "    img = tf.io.decode_raw(img,tf.complex64)\n",
    "    img = tf.slice(img,begin=[1024//64],size=[IMAGE_SIZE]) # begin <- 1024//complex64\n",
    "    img = tf.reshape(img,IMAGE_DIM)\n",
    "    img = process_image(img)\n",
    "\n",
    "    label = img\n",
    "    return img, label\n",
    "\n",
    "def process_path_B(path): #map_func\n",
    "    #extract the 2d array and the label\n",
    "    img = tf.io.read_file(path)\n",
    "    img = tf.io.decode_raw(img,tf.complex64)\n",
    "    img = tf.slice(img,begin=[1024//64],size=[IMAGE_SIZE]) # begin <- 1024//complex64\n",
    "    img = tf.reshape(img,IMAGE_DIM)\n",
    "    img = process_image(img)\n",
    "\n",
    "    label = tf.strings.split( tf.strings.split( path, os.sep )[-1],sep=\"_\" )[1]\n",
    "    return img, label"
   ]
  },
  {
   "cell_type": "code",
   "execution_count": 47,
   "metadata": {},
   "outputs": [],
   "source": [
    "dataset_A = dataset_for_training_A.map(process_path_A,num_parallel_calls=autotune)\n",
    "dataset_B_train = dataset_for_training_B_train.map(process_path_B,num_parallel_calls=autotune)\n",
    "dataset_B_test = dataset_for_training_B_test.map(process_path_B,num_parallel_calls=autotune)"
   ]
  },
  {
   "cell_type": "code",
   "execution_count": 48,
   "metadata": {},
   "outputs": [
    {
     "data": {
      "text/plain": [
       "(<tf.Tensor: shape=(513, 345), dtype=float32, numpy=\n",
       " array([[1.07342266e-01, 1.43307537e-01, 9.16463360e-02, ...,\n",
       "         1.29235168e-05, 8.45194081e-05, 2.68683681e-04],\n",
       "        [5.15958702e-04, 7.11368979e-04, 1.22292223e-03, ...,\n",
       "         2.67169060e-04, 1.28484110e-03, 1.14161037e-02],\n",
       "        [1.89742576e-02, 7.73821026e-03, 5.45850582e-03, ...,\n",
       "         2.36976087e-01, 5.42790413e+00, 1.12960043e+01],\n",
       "        ...,\n",
       "        [2.15051355e-09, 2.34039588e-09, 2.26604979e-09, ...,\n",
       "         1.06540756e-04, 4.63093347e-05, 4.82917065e-04],\n",
       "        [1.16620632e-03, 8.16322630e-04, 1.00953941e-04, ...,\n",
       "         5.04085002e-03, 1.10912994e-02, 1.03960363e-02],\n",
       "        [1.79205090e-02, 1.78491306e-02, 1.14456872e-02, ...,\n",
       "         5.85281100e-07, 5.70318434e-07, 5.05173830e-07]], dtype=float32)>,\n",
       " <tf.Tensor: shape=(513, 345), dtype=float32, numpy=\n",
       " array([[1.07342266e-01, 1.43307537e-01, 9.16463360e-02, ...,\n",
       "         1.29235168e-05, 8.45194081e-05, 2.68683681e-04],\n",
       "        [5.15958702e-04, 7.11368979e-04, 1.22292223e-03, ...,\n",
       "         2.67169060e-04, 1.28484110e-03, 1.14161037e-02],\n",
       "        [1.89742576e-02, 7.73821026e-03, 5.45850582e-03, ...,\n",
       "         2.36976087e-01, 5.42790413e+00, 1.12960043e+01],\n",
       "        ...,\n",
       "        [2.15051355e-09, 2.34039588e-09, 2.26604979e-09, ...,\n",
       "         1.06540756e-04, 4.63093347e-05, 4.82917065e-04],\n",
       "        [1.16620632e-03, 8.16322630e-04, 1.00953941e-04, ...,\n",
       "         5.04085002e-03, 1.10912994e-02, 1.03960363e-02],\n",
       "        [1.79205090e-02, 1.78491306e-02, 1.14456872e-02, ...,\n",
       "         5.85281100e-07, 5.70318434e-07, 5.05173830e-07]], dtype=float32)>)"
      ]
     },
     "execution_count": 48,
     "metadata": {},
     "output_type": "execute_result"
    }
   ],
   "source": [
    "next(iter(dataset_A))"
   ]
  },
  {
   "cell_type": "code",
   "execution_count": null,
   "metadata": {},
   "outputs": [],
   "source": [
    "def configure_for_performance(ds):\n",
    "    ds = ds.cache()\n",
    "    ds = ds.batch(batch_size)\n",
    "    ds = ds.prefetch(buffer_size=autotune)\n",
    "    return ds\n",
    "\n",
    "dataset_A = configure_for_performance(dataset_A)\n",
    "dataset_B_test = configure_for_performance(dataset_B_test)\n",
    "dataset_B_train = configure_for_performance(dataset_B_train)"
   ]
  },
  {
   "cell_type": "markdown",
   "metadata": {},
   "source": [
    "## 2. Model initialization"
   ]
  },
  {
   "cell_type": "code",
   "execution_count": null,
   "metadata": {},
   "outputs": [],
   "source": []
  },
  {
   "cell_type": "markdown",
   "metadata": {},
   "source": [
    "## 3. Training & Evaluation"
   ]
  },
  {
   "cell_type": "markdown",
   "metadata": {},
   "source": [
    "![](/Experiment1abstract.jpg?raw=true)"
   ]
  }
 ],
 "metadata": {
  "interpreter": {
   "hash": "1d5c1156327dacead463cc502c55ebae8ce9c8c01979cf154173ff808e75bf55"
  },
  "kernelspec": {
   "display_name": "Python 3.9.7 64-bit",
   "language": "python",
   "name": "python3"
  },
  "language_info": {
   "codemirror_mode": {
    "name": "ipython",
    "version": 3
   },
   "file_extension": ".py",
   "mimetype": "text/x-python",
   "name": "python",
   "nbconvert_exporter": "python",
   "pygments_lexer": "ipython3",
   "version": "3.9.6"
  },
  "orig_nbformat": 4
 },
 "nbformat": 4,
 "nbformat_minor": 2
}
