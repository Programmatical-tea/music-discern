{
 "cells": [
  {
   "cell_type": "markdown",
   "metadata": {},
   "source": [
    "## Experiment 1: (2022-07-28~)\n",
    "- - -\n",
    "#### 0. Preprocessing / (Done on seperate file)\n",
    "Urbansound8k Dataset i){8732(<=4s).wav files/10 folders(must be separated)} => Noise data    \n",
    "MTG-jamendo Dataset i){}=> Music data   \n",
    "For easy labeling, we need to save the labels along with the data ( X.npy = [ data , label ] )\n",
    "\n",
    "#### 1. Initialize input pipeline\n",
    "\n",
    "\n",
    "#### 2. Model initialization\n",
    "\n",
    "\n",
    "#### 3. Training & Evaluation\n",
    "\n",
    "- - -"
   ]
  },
  {
   "cell_type": "code",
   "execution_count": 1,
   "metadata": {},
   "outputs": [],
   "source": [
    "import os\n",
    "import numpy as np\n",
    "import matplotlib.pyplot as plt\n",
    " \n",
    "import tensorflow as tf\n",
    "from tensorflow import keras\n",
    "from tensorflow.keras import layers, losses\n",
    "\n",
    "import tensorflow_addons as tfa\n",
    "\n",
    "import pathlib\n",
    "\n",
    "import librosa\n",
    "\n",
    "import soundfile as sf\n",
    "\n",
    "from tqdm import tqdm\n",
    "\n",
    "from IPython.display import clear_output\n",
    "\n",
    "autotune = tf.data.AUTOTUNE"
   ]
  },
  {
   "cell_type": "code",
   "execution_count": 2,
   "metadata": {},
   "outputs": [
    {
     "name": "stdout",
     "output_type": "stream",
     "text": [
      "1 Physical GPUs, 1 Logical GPUs\n"
     ]
    }
   ],
   "source": [
    "gpus = tf.config.experimental.list_physical_devices('GPU')\n",
    "if gpus:\n",
    "    try:\n",
    "        # Currently, memory growth needs to be the same across GPUs\n",
    "        for gpu in gpus:\n",
    "            tf.config.experimental.set_memory_growth(gpu, True)\n",
    "            #tf.config.experimental.set_virtual_device_configuration(gpu, [tf.config.experimental.VirtualDeviceConfiguration(memory_limit=1024*11)])\n",
    "        logical_gpus = tf.config.experimental.list_logical_devices('GPU')\n",
    "        print(len(gpus), \"Physical GPUs,\", len(logical_gpus), \"Logical GPUs\")\n",
    "    except RuntimeError as e:\n",
    "        # Memory growth must be set before GPUs have been initialized\n",
    "        print(e)"
   ]
  },
  {
   "cell_type": "markdown",
   "metadata": {},
   "source": [
    "## 1. Initializing Input Pipeline   \n",
    "(planned 22.08.08)   \n",
    "* First define the raw tf.data.Datasets.   \n",
    "* Make a function that preprocesses the training datasets.\n",
    "* Use tf.data.Dataset.map to create the fully processed dataset.\n",
    "* Then make a function that finds the labels for each of the training datasets.   \n",
    "* Use tf.data.Dataset.map to create the label Dataset.   \n",
    "* Then combine them with tf.data.Dataset.zip.   \n",
    "* Then Shuffle & Configure for performance"
   ]
  },
  {
   "cell_type": "code",
   "execution_count": 3,
   "metadata": {},
   "outputs": [],
   "source": [
    "IMAGE_SIZE = 513*345\n",
    "IMAGE_DIM = [513,345,1]\n",
    "\n",
    "# Training\n",
    "batch_size = 1"
   ]
  },
  {
   "cell_type": "code",
   "execution_count": 4,
   "metadata": {},
   "outputs": [
    {
     "name": "stdout",
     "output_type": "stream",
     "text": [
      "[WindowsPath('D:/전재원졸업연구/music-discern/Datasets/Urbansound8K/processed/fold1'), WindowsPath('D:/전재원졸업연구/music-discern/Datasets/Urbansound8K/processed/fold2'), WindowsPath('D:/전재원졸업연구/music-discern/Datasets/Urbansound8K/processed/fold3'), WindowsPath('D:/전재원졸업연구/music-discern/Datasets/Urbansound8K/processed/fold4'), WindowsPath('D:/전재원졸업연구/music-discern/Datasets/Urbansound8K/processed/fold5'), WindowsPath('D:/전재원졸업연구/music-discern/Datasets/Urbansound8K/processed/fold6'), WindowsPath('D:/전재원졸업연구/music-discern/Datasets/Urbansound8K/processed/fold7'), WindowsPath('D:/전재원졸업연구/music-discern/Datasets/Urbansound8K/processed/fold8'), WindowsPath('D:/전재원졸업연구/music-discern/Datasets/Urbansound8K/processed/fold9'), WindowsPath('D:/전재원졸업연구/music-discern/Datasets/Urbansound8K/processed/fold10')]\n",
      "[WindowsPath('D:/전재원졸업연구/music-discern/Datasets/MTGJamendo/processed/fold1'), WindowsPath('D:/전재원졸업연구/music-discern/Datasets/MTGJamendo/processed/fold2'), WindowsPath('D:/전재원졸업연구/music-discern/Datasets/MTGJamendo/processed/fold3'), WindowsPath('D:/전재원졸업연구/music-discern/Datasets/MTGJamendo/processed/fold4'), WindowsPath('D:/전재원졸업연구/music-discern/Datasets/MTGJamendo/processed/fold5'), WindowsPath('D:/전재원졸업연구/music-discern/Datasets/MTGJamendo/processed/fold6'), WindowsPath('D:/전재원졸업연구/music-discern/Datasets/MTGJamendo/processed/fold7'), WindowsPath('D:/전재원졸업연구/music-discern/Datasets/MTGJamendo/processed/fold8'), WindowsPath('D:/전재원졸업연구/music-discern/Datasets/MTGJamendo/processed/fold9'), WindowsPath('D:/전재원졸업연구/music-discern/Datasets/MTGJamendo/processed/fold10')]\n"
     ]
    }
   ],
   "source": [
    "base_path = pathlib.Path('D:/전재원졸업연구/music-discern/') # Edit on other computers\n",
    "base_path_dataset = pathlib.Path('D:/전재원졸업연구/music-discern/Datasets/') # Edit on other computers\n",
    "\n",
    "#Urbansound is nested in Datasets/Urbansound8K/audio/fold**\n",
    "#Urbansound is already separated into batches, which need to be preserved.\n",
    "urban_metadata_path = pathlib.Path(base_path_dataset/'Urbansound8K/metadata')\n",
    "urban_audio_folders_path = pathlib.Path(base_path_dataset/'Urbansound8K/processed')\n",
    "urban_audio_path_list = [x for x in urban_audio_folders_path.iterdir()]\n",
    "temp = urban_audio_path_list.pop(1)\n",
    "urban_audio_path_list.append(temp)\n",
    "\n",
    "#Jamendo is nested in Datasets/MTGJamendo/audio\n",
    "#Jamendo is not separated in batches, so we need to separate it into 10 batches, matching urbansound.\n",
    "jamendo_metadata_path = pathlib.Path(base_path_dataset/'MTGJamendo/metadata')\n",
    "jamendo_audio_folders_path = pathlib.Path(base_path_dataset/'MTGJamendo/processed')\n",
    "jamendo_audio_path_list = [x for x in jamendo_audio_folders_path.iterdir()]\n",
    "temp = jamendo_audio_path_list.pop(1)\n",
    "jamendo_audio_path_list.append(temp)\n",
    "\n",
    "\n",
    "#for later -> add a path for any .wav file that I want to observe.\n",
    "test_subjects_path = pathlib.Path(\"./\")\n",
    "\n",
    "save_weights_path = pathlib.Path(base_path/'Experiment1/model_checkpoints')\n",
    "save_weights_A_path = pathlib.Path(save_weights_path/'model_A')\n",
    "save_weights_B_path = pathlib.Path(save_weights_path/'model_B')\n",
    "\n",
    "Train = [0,1,2,3,4,5,6,7,8]\n",
    "Test = [9] #Seperation, for later evaluation in Training step B\n",
    "\n",
    "print(urban_audio_path_list)\n",
    "print(jamendo_audio_path_list)"
   ]
  },
  {
   "cell_type": "code",
   "execution_count": 5,
   "metadata": {},
   "outputs": [],
   "source": [
    "dataset_for_training_A = \"empty\"\n",
    "dataset_for_training_B_train = \"empty\"\n",
    "dataset_for_training_B_test = \"empty\"\n",
    "\n",
    "dataset_for_training_A = tf.data.Dataset.list_files(str(urban_audio_folders_path/'*/*.npy'))\n",
    "dataset_for_training_A = dataset_for_training_A.concatenate( tf.data.Dataset.list_files(str(jamendo_audio_folders_path/'*/*.npy')) )\n",
    "\n",
    "for k in Train:\n",
    "    temp_path_urban = str(urban_audio_path_list[k])\n",
    "    temp_path_jam = str(jamendo_audio_path_list[k])\n",
    "    if dataset_for_training_B_train == \"empty\":\n",
    "        dataset_for_training_B_train = tf.data.Dataset.list_files(temp_path_urban + '/*.npy')\n",
    "        dataset_for_training_B_train = dataset_for_training_B_train.concatenate( tf.data.Dataset.list_files(temp_path_jam + '/*.npy') )\n",
    "    else:\n",
    "        dataset_for_training_B_train = dataset_for_training_B_train.concatenate( tf.data.Dataset.list_files(temp_path_urban + '/*.npy') )\n",
    "        dataset_for_training_B_train = dataset_for_training_B_train.concatenate( tf.data.Dataset.list_files(temp_path_jam + '/*.npy') )\n",
    "\n",
    "for k in Test:\n",
    "    temp_path_urban = str(urban_audio_path_list[k])\n",
    "    temp_path_jam = str(jamendo_audio_path_list[k])\n",
    "    if dataset_for_training_B_test == \"empty\":\n",
    "        dataset_for_training_B_test = tf.data.Dataset.list_files(temp_path_urban + '/*.npy')\n",
    "        dataset_for_training_B_test = dataset_for_training_B_test.concatenate( tf.data.Dataset.list_files(temp_path_jam + '/*.npy') )\n",
    "    else:\n",
    "        dataset_for_training_B_test = dataset_for_training_B_test.concatenate( tf.data.Dataset.list_files(temp_path_urban + '/*.npy') )\n",
    "        dataset_for_training_B_test = dataset_for_training_B_test.concatenate( tf.data.Dataset.list_files(temp_path_jam + '/*.npy') )\n",
    "\n",
    "# returns dataset for training A, dataset for training B Train, dataset for training B Test"
   ]
  },
  {
   "cell_type": "code",
   "execution_count": 6,
   "metadata": {},
   "outputs": [
    {
     "name": "stdout",
     "output_type": "stream",
     "text": [
      "tf.Tensor(b'D:\\\\\\xec\\xa0\\x84\\xec\\x9e\\xac\\xec\\x9b\\x90\\xec\\xa1\\xb8\\xec\\x97\\x85\\xec\\x97\\xb0\\xea\\xb5\\xac\\\\music-discern\\\\Datasets\\\\Urbansound8K\\\\processed\\\\fold6\\\\196077-2-0-1_noise_0.npy', shape=(), dtype=string)\n",
      "tf.Tensor(b'noise', shape=(), dtype=string)\n",
      "complex64\n",
      "tf.Tensor(\n",
      "[[ 4.6187752e-01+0.00000000e+00j -2.8430811e-01+2.71663398e-01j\n",
      "   7.0437856e-02-2.34095514e-01j ...  5.1228289e-02-1.14128552e-02j\n",
      "  -6.5394286e-03+4.18047979e-02j -3.6885280e-02-1.83420684e-02j]\n",
      " [ 3.6750004e-02-2.06848923e-02j -1.6046612e-02+3.16467099e-02j\n",
      "   1.1653874e-02-3.10932007e-02j ... -1.7763261e-01+6.69601619e-01j\n",
      "  -1.8115959e-01-3.58936101e-01j  3.5402727e-01+1.77284554e-02j]\n",
      " [-2.3131315e-01+1.38882250e-01j  5.0987832e-02-5.43873757e-03j\n",
      "  -7.7017866e-02-1.40428990e-01j ...  1.0580726e-01+6.24060333e-02j\n",
      "   4.5375772e-02-7.35106468e-02j -1.6122083e-01+6.30930811e-02j]\n",
      " ...\n",
      " [ 2.1095611e-05-3.34434553e-05j -2.6222679e-05+3.39813887e-05j\n",
      "   7.6429415e-06-9.66051266e-06j ... -2.8941920e-03-5.60244662e-04j\n",
      "   2.9739514e-03+5.78478305e-03j  1.2759266e-03-4.63635102e-03j]\n",
      " [ 8.7608915e-04-2.28473335e-03j -6.5329964e-03+4.90656355e-03j\n",
      "   6.5108263e-03-1.18692312e-03j ... -7.0316151e-02-5.16478121e-02j\n",
      "  -4.0291321e-02+3.06423865e-02j  6.9509536e-02+3.75979766e-02j]\n",
      " [-2.3193097e-02-4.01817486e-02j -2.0193253e-02+1.91736650e-02j\n",
      "   8.4037662e-02-1.15548195e-02j ... -4.2332604e-04+4.23302921e-03j\n",
      "  -2.8590986e-03-3.16093466e-03j  4.2557945e-03+0.00000000e+00j]], shape=(513, 345), dtype=complex64)\n"
     ]
    }
   ],
   "source": [
    "for f in dataset_for_training_A.take(1):\n",
    "    print(f)\n",
    "    print(tf.strings.split( tf.strings.split( f,os.sep )[-1],sep=\"_\" )[1])\n",
    "    A = np.load(f.numpy(),allow_pickle=True)\n",
    "    print(A.dtype)\n",
    "    img = tf.io.read_file(f)\n",
    "    img = tf.io.decode_raw(img,tf.complex64)\n",
    "    img = tf.slice(img,begin=[16],size=[IMAGE_SIZE])\n",
    "    img = tf.reshape(img,[513,345])\n",
    "    print(img)"
   ]
  },
  {
   "cell_type": "code",
   "execution_count": 7,
   "metadata": {},
   "outputs": [],
   "source": [
    "def process_image(image):\n",
    "    #make the images into spectrograms\n",
    "    processed_img = tf.pow(tf.abs(image),2)\n",
    "    #normalize the images?\n",
    "    return processed_img\n",
    "\n",
    "def process_path_A(path):\n",
    "    #for training A, the label is just itself so we need to take that into account\n",
    "    img = tf.io.read_file(path)\n",
    "    img = tf.io.decode_raw(img,tf.complex64)\n",
    "    img = tf.slice(img,begin=[1024//64],size=[IMAGE_SIZE]) # begin <- 1024//complex64\n",
    "    img = tf.reshape(img,IMAGE_DIM)\n",
    "    img = process_image(img)\n",
    "\n",
    "    label = img\n",
    "    return img, label\n",
    "\n",
    "def process_path_B(path): #map_func\n",
    "    #extract the 2d array and the label\n",
    "    img = tf.io.read_file(path)\n",
    "    img = tf.io.decode_raw(img,tf.complex64)\n",
    "    img = tf.slice(img,begin=[1024//64],size=[IMAGE_SIZE]) # begin <- 1024//complex64\n",
    "    img = tf.reshape(img,IMAGE_DIM)\n",
    "    img = process_image(img)\n",
    "\n",
    "    label = tf.strings.split( tf.strings.split( path, os.sep )[-1],sep=\"_\" )[1]\n",
    "    return img, label"
   ]
  },
  {
   "cell_type": "code",
   "execution_count": 8,
   "metadata": {},
   "outputs": [],
   "source": [
    "dataset_A = dataset_for_training_A.map(process_path_A,num_parallel_calls=autotune)\n",
    "dataset_B_train = dataset_for_training_B_train.map(process_path_B,num_parallel_calls=autotune)\n",
    "dataset_B_test = dataset_for_training_B_test.map(process_path_B,num_parallel_calls=autotune)"
   ]
  },
  {
   "cell_type": "code",
   "execution_count": 9,
   "metadata": {},
   "outputs": [
    {
     "data": {
      "text/plain": [
       "<tf.Tensor: shape=(513, 345, 1), dtype=float32, numpy=\n",
       "array([[[6.3305440e+00],\n",
       "        [9.0520887e+00],\n",
       "        [1.3128193e+01],\n",
       "        ...,\n",
       "        [2.6362767e-02],\n",
       "        [1.0057006e-01],\n",
       "        [9.9431954e-02]],\n",
       "\n",
       "       [[9.2830710e-02],\n",
       "        [8.1856772e-02],\n",
       "        [1.4370207e-01],\n",
       "        ...,\n",
       "        [2.8023753e-01],\n",
       "        [2.2021297e-02],\n",
       "        [2.0814107e-01]],\n",
       "\n",
       "       [[2.7640817e-01],\n",
       "        [1.4024593e-01],\n",
       "        [6.3979912e-01],\n",
       "        ...,\n",
       "        [4.7679068e+02],\n",
       "        [1.6137547e+01],\n",
       "        [1.5752527e+03]],\n",
       "\n",
       "       ...,\n",
       "\n",
       "       [[1.4447670e-06],\n",
       "        [5.9281542e-06],\n",
       "        [1.1049441e-06],\n",
       "        ...,\n",
       "        [2.0934563e+00],\n",
       "        [2.9962829e-01],\n",
       "        [2.9382026e+00]],\n",
       "\n",
       "       [[3.9302423e+00],\n",
       "        [8.2343495e-01],\n",
       "        [6.9057591e-02],\n",
       "        ...,\n",
       "        [4.3136507e-01],\n",
       "        [1.6242783e+00],\n",
       "        [1.7080684e+00]],\n",
       "\n",
       "       [[9.8017132e-01],\n",
       "        [1.0171720e+00],\n",
       "        [1.2209444e+00],\n",
       "        ...,\n",
       "        [2.3134293e-03],\n",
       "        [2.3227183e-03],\n",
       "        [2.2653590e-03]]], dtype=float32)>"
      ]
     },
     "execution_count": 9,
     "metadata": {},
     "output_type": "execute_result"
    }
   ],
   "source": [
    "next(iter(dataset_A))[1]"
   ]
  },
  {
   "cell_type": "code",
   "execution_count": 10,
   "metadata": {},
   "outputs": [],
   "source": [
    "def configure_for_performance(ds):\n",
    "    ds = ds.cache()\n",
    "    ds = ds.batch(batch_size)\n",
    "    ds = ds.prefetch(buffer_size=autotune)\n",
    "    return ds\n",
    "\n",
    "dataset_A = configure_for_performance(dataset_A)\n",
    "dataset_B_test = configure_for_performance(dataset_B_test)\n",
    "dataset_B_train = configure_for_performance(dataset_B_train)"
   ]
  },
  {
   "cell_type": "code",
   "execution_count": 11,
   "metadata": {},
   "outputs": [
    {
     "name": "stdout",
     "output_type": "stream",
     "text": [
      "(1, 513, 345, 1)\n",
      "(1, 256, 172, 16)\n",
      "(1, 128, 86, 8)\n",
      "(1, 257, 173, 8)\n",
      "(1, 515, 347, 16)\n",
      "(1, 513, 345, 1)\n",
      "(1, 513, 345, 1)\n"
     ]
    }
   ],
   "source": [
    "\n",
    "a = layers.Conv2D(16, (3,3), activation='relu', padding='valid', strides=2)\n",
    "b = layers.Conv2D(8, (3,3), activation='relu', padding='same', strides=2)\n",
    "c = layers.Conv2DTranspose(8, kernel_size=3, strides=2, activation='relu', padding='valid')\n",
    "d = layers.Conv2DTranspose(16, kernel_size=3, strides=2, activation='relu', padding='valid')\n",
    "e = layers.Conv2D(1, kernel_size=(3,3), activation='sigmoid', padding='valid')\n",
    "\n",
    "input_shape = (1,513,345,1)\n",
    "x = tf.random.normal(input_shape)\n",
    "\n",
    "print(input_shape)\n",
    "y = a(x)\n",
    "print(y.shape)\n",
    "y = b(y)\n",
    "print(y.shape)\n",
    "y = c(y)\n",
    "print(y.shape)\n",
    "y = d(y)\n",
    "print(y.shape)\n",
    "y = e(y)\n",
    "print(y.shape)\n",
    "y = e(d(c(b(a(x)))))\n",
    "print(y.shape)"
   ]
  },
  {
   "cell_type": "markdown",
   "metadata": {},
   "source": [
    "## 2. Model initialization"
   ]
  },
  {
   "cell_type": "code",
   "execution_count": 12,
   "metadata": {},
   "outputs": [],
   "source": [
    "class Autoencoder(tf.keras.Model):\n",
    "#when the input shape is an odd number, even number of strides coupled with 'same' padding makes the output shape different from the imput shape.\n",
    "#Therefore by trial and error this valid, same, valid, valid, valid padding structure was found, not sure if it is accurate\n",
    "    def __init__(self):\n",
    "        super(Autoencoder, self).__init__()\n",
    "        self.encoder = tf.keras.Sequential([\n",
    "            layers.InputLayer(input_shape = IMAGE_DIM , batch_size= batch_size),\n",
    "            layers.Conv2D(16, (3,3), activation='relu', padding='valid', strides=2),\n",
    "            layers.Conv2D(8, (3,3), activation='relu', padding='same', strides=2), \n",
    "        ])\n",
    "        self.decoder = tf.keras.Sequential([\n",
    "            layers.Conv2DTranspose(8, kernel_size=3, strides=2, activation='relu', padding='valid'),\n",
    "            layers.Conv2DTranspose(16, kernel_size=3, strides=2, activation='relu', padding='valid'),\n",
    "            layers.Conv2D(1, kernel_size=(3,3), activation='sigmoid', padding='valid') \n",
    "        ])\n",
    "    \n",
    "    def __call__(self, x, training=False):\n",
    "        encoded = self.encoder(x)\n",
    "        decoded = self.decoder(encoded)\n",
    "        return decoded\n",
    "    \n",
    "Model_A = Autoencoder()"
   ]
  },
  {
   "cell_type": "code",
   "execution_count": 13,
   "metadata": {},
   "outputs": [],
   "source": [
    "class Classifier(tf.keras.Model):\n",
    "\n",
    "    def __init__(self, Model_A):\n",
    "        super(Classifier, self).__init__()\n",
    "        #comes after the encoding\n",
    "        self.classifer_layer = tf.keras.Sequential([\n",
    "            layers.InputLayer(input_shape=[129,87,8], batch_size= batch_size),\n",
    "            layers.Conv2D(8, (3,3), activation='relu', padding='same', strides=2),\n",
    "            layers.Conv2D(4, (3,3), activation='relu', padding='same', strides=2),\n",
    "            layers.Conv2D(2, (3,3), activation='relu', padding='same', strides=2),\n",
    "            layers.Conv2D(1, (3,3), activation='relu', padding='same', strides=2),\n",
    "            layers.Flatten(),\n",
    "            layers.Dense(16, activation='relu'),\n",
    "            layers.Dense(1, activation='softmax')\n",
    "        ])\n",
    "        self.Model_A = Model_A.encoder # Probablility of deepcopy, not sure. If accuracy is terrible this may be the suspect\n",
    "\n",
    "    def __call__(self,x):\n",
    "        compressed = self.Model_A(x)\n",
    "        return self.classifer_layer(compressed)\n",
    "\n",
    "Model_B = Classifier(Model_A)"
   ]
  },
  {
   "cell_type": "code",
   "execution_count": 14,
   "metadata": {},
   "outputs": [],
   "source": [
    "Model_A.compile(optimizer=tf.keras.optimizers.Adam(learning_rate=1e-5), loss=tf.keras.losses.MeanSquaredError())"
   ]
  },
  {
   "cell_type": "code",
   "execution_count": 15,
   "metadata": {},
   "outputs": [],
   "source": [
    "Model_B.compile(optimizer='adam',\n",
    "              loss='sparse_categorical_crossentropy',\n",
    "              metrics=['accuracy'])"
   ]
  },
  {
   "cell_type": "code",
   "execution_count": 16,
   "metadata": {},
   "outputs": [],
   "source": [
    "# Create a callback function that saves the weights periodically, and shows the reconstructed images periodically\n",
    "class Monitor_A(keras.callbacks.Callback):\n",
    "    \n",
    "    def on_epoch_end(self, epoch, logs=None):\n",
    "        _, ax = plt.subplots(1,2, figsize=(21,7))\n",
    "        for k,k in dataset_A.take(1):\n",
    "            changed = self.model(k)\n",
    "            clear_output(wait=True)\n",
    "            ax[0, 0].imshow(k)\n",
    "            ax[0, 1].imshow(changed)\n",
    "            ax[0, 0].set_title(\"Input image\")\n",
    "            ax[0, 1].set_title(\"Translated image\")\n",
    "            ax[0, 0].axis(\"off\")\n",
    "            ax[0, 1].axis(\"off\")\n",
    "        \n",
    "        if (epoch) % 5 == 0:\n",
    "            self.model.save_weights(pathlib.Path(save_weights_A_path/\"{epoch:04}.h5\"))\n",
    "    \n",
    "        plt.show()\n",
    "        plt.close()"
   ]
  },
  {
   "cell_type": "code",
   "execution_count": 17,
   "metadata": {},
   "outputs": [],
   "source": [
    "# Create a callback function that saves the weights periodically, and shows the reconstructed images periodically\n",
    "class Monitor_B(keras.callbacks.Callback):\n",
    "    def on_epoch_end(self, epoch, logs=None):\n",
    "        \n",
    "        if (epoch) % 5 == 0:\n",
    "            self.model.save_weights(pathlib.Path(save_weights_B_path/\"{epoch:04}.h5\"))\n"
   ]
  },
  {
   "cell_type": "markdown",
   "metadata": {},
   "source": [
    "## 3. Training & Evaluation"
   ]
  },
  {
   "cell_type": "code",
   "execution_count": 18,
   "metadata": {},
   "outputs": [
    {
     "name": "stdout",
     "output_type": "stream",
     "text": [
      "Epoch 1/100\n",
      "26112/41026 [==================>...........] - ETA: 1:44 - loss: 63856.144 - ETA: 2:33 - loss: 63855.6289"
     ]
    }
   ],
   "source": [
    "with tf.device('/gpu:0'):\n",
    "    history = Model_A.fit(dataset_A, batch_size=batch_size, epochs=100, callbacks=[Monitor_A()])"
   ]
  },
  {
   "cell_type": "code",
   "execution_count": null,
   "metadata": {},
   "outputs": [
    {
     "name": "stdout",
     "output_type": "stream",
     "text": [
      "Epoch 1/100\n"
     ]
    },
    {
     "ename": "TypeError",
     "evalue": "'NoneType' object is not callable",
     "output_type": "error",
     "traceback": [
      "\u001b[1;31m---------------------------------------------------------------------------\u001b[0m",
      "\u001b[1;31mTypeError\u001b[0m                                 Traceback (most recent call last)",
      "\u001b[1;32m~\\AppData\\Local\\Temp/ipykernel_308/104859032.py\u001b[0m in \u001b[0;36m<module>\u001b[1;34m\u001b[0m\n\u001b[1;32m----> 1\u001b[1;33m \u001b[0mModel_A\u001b[0m\u001b[1;33m.\u001b[0m\u001b[0mfit\u001b[0m\u001b[1;33m(\u001b[0m\u001b[0mdataset_A\u001b[0m\u001b[1;33m,\u001b[0m \u001b[0mbatch_size\u001b[0m\u001b[1;33m=\u001b[0m\u001b[0mbatch_size\u001b[0m\u001b[1;33m,\u001b[0m \u001b[0mepochs\u001b[0m\u001b[1;33m=\u001b[0m\u001b[1;36m100\u001b[0m\u001b[1;33m,\u001b[0m \u001b[0mcallbacks\u001b[0m\u001b[1;33m=\u001b[0m\u001b[1;33m[\u001b[0m\u001b[0mMonitor_A\u001b[0m\u001b[1;33m(\u001b[0m\u001b[1;33m)\u001b[0m\u001b[1;33m]\u001b[0m\u001b[1;33m)\u001b[0m\u001b[1;33m\u001b[0m\u001b[1;33m\u001b[0m\u001b[0m\n\u001b[0m",
      "\u001b[1;32mc:\\Users\\USER\\AppData\\Local\\Programs\\Python\\Python39\\lib\\site-packages\\tensorflow\\python\\keras\\engine\\training.py\u001b[0m in \u001b[0;36mfit\u001b[1;34m(self, x, y, batch_size, epochs, verbose, callbacks, validation_split, validation_data, shuffle, class_weight, sample_weight, initial_epoch, steps_per_epoch, validation_steps, validation_batch_size, validation_freq, max_queue_size, workers, use_multiprocessing)\u001b[0m\n\u001b[0;32m   1181\u001b[0m                 _r=1):\n\u001b[0;32m   1182\u001b[0m               \u001b[0mcallbacks\u001b[0m\u001b[1;33m.\u001b[0m\u001b[0mon_train_batch_begin\u001b[0m\u001b[1;33m(\u001b[0m\u001b[0mstep\u001b[0m\u001b[1;33m)\u001b[0m\u001b[1;33m\u001b[0m\u001b[1;33m\u001b[0m\u001b[0m\n\u001b[1;32m-> 1183\u001b[1;33m               \u001b[0mtmp_logs\u001b[0m \u001b[1;33m=\u001b[0m \u001b[0mself\u001b[0m\u001b[1;33m.\u001b[0m\u001b[0mtrain_function\u001b[0m\u001b[1;33m(\u001b[0m\u001b[0miterator\u001b[0m\u001b[1;33m)\u001b[0m\u001b[1;33m\u001b[0m\u001b[1;33m\u001b[0m\u001b[0m\n\u001b[0m\u001b[0;32m   1184\u001b[0m               \u001b[1;32mif\u001b[0m \u001b[0mdata_handler\u001b[0m\u001b[1;33m.\u001b[0m\u001b[0mshould_sync\u001b[0m\u001b[1;33m:\u001b[0m\u001b[1;33m\u001b[0m\u001b[1;33m\u001b[0m\u001b[0m\n\u001b[0;32m   1185\u001b[0m                 \u001b[0mcontext\u001b[0m\u001b[1;33m.\u001b[0m\u001b[0masync_wait\u001b[0m\u001b[1;33m(\u001b[0m\u001b[1;33m)\u001b[0m\u001b[1;33m\u001b[0m\u001b[1;33m\u001b[0m\u001b[0m\n",
      "\u001b[1;32mc:\\Users\\USER\\AppData\\Local\\Programs\\Python\\Python39\\lib\\site-packages\\tensorflow\\python\\eager\\def_function.py\u001b[0m in \u001b[0;36m__call__\u001b[1;34m(self, *args, **kwds)\u001b[0m\n\u001b[0;32m    887\u001b[0m \u001b[1;33m\u001b[0m\u001b[0m\n\u001b[0;32m    888\u001b[0m       \u001b[1;32mwith\u001b[0m \u001b[0mOptionalXlaContext\u001b[0m\u001b[1;33m(\u001b[0m\u001b[0mself\u001b[0m\u001b[1;33m.\u001b[0m\u001b[0m_jit_compile\u001b[0m\u001b[1;33m)\u001b[0m\u001b[1;33m:\u001b[0m\u001b[1;33m\u001b[0m\u001b[1;33m\u001b[0m\u001b[0m\n\u001b[1;32m--> 889\u001b[1;33m         \u001b[0mresult\u001b[0m \u001b[1;33m=\u001b[0m \u001b[0mself\u001b[0m\u001b[1;33m.\u001b[0m\u001b[0m_call\u001b[0m\u001b[1;33m(\u001b[0m\u001b[1;33m*\u001b[0m\u001b[0margs\u001b[0m\u001b[1;33m,\u001b[0m \u001b[1;33m**\u001b[0m\u001b[0mkwds\u001b[0m\u001b[1;33m)\u001b[0m\u001b[1;33m\u001b[0m\u001b[1;33m\u001b[0m\u001b[0m\n\u001b[0m\u001b[0;32m    890\u001b[0m \u001b[1;33m\u001b[0m\u001b[0m\n\u001b[0;32m    891\u001b[0m       \u001b[0mnew_tracing_count\u001b[0m \u001b[1;33m=\u001b[0m \u001b[0mself\u001b[0m\u001b[1;33m.\u001b[0m\u001b[0mexperimental_get_tracing_count\u001b[0m\u001b[1;33m(\u001b[0m\u001b[1;33m)\u001b[0m\u001b[1;33m\u001b[0m\u001b[1;33m\u001b[0m\u001b[0m\n",
      "\u001b[1;32mc:\\Users\\USER\\AppData\\Local\\Programs\\Python\\Python39\\lib\\site-packages\\tensorflow\\python\\eager\\def_function.py\u001b[0m in \u001b[0;36m_call\u001b[1;34m(self, *args, **kwds)\u001b[0m\n\u001b[0;32m    915\u001b[0m       \u001b[1;31m# In this case we have created variables on the first call, so we run the\u001b[0m\u001b[1;33m\u001b[0m\u001b[1;33m\u001b[0m\u001b[1;33m\u001b[0m\u001b[0m\n\u001b[0;32m    916\u001b[0m       \u001b[1;31m# defunned version which is guaranteed to never create variables.\u001b[0m\u001b[1;33m\u001b[0m\u001b[1;33m\u001b[0m\u001b[1;33m\u001b[0m\u001b[0m\n\u001b[1;32m--> 917\u001b[1;33m       \u001b[1;32mreturn\u001b[0m \u001b[0mself\u001b[0m\u001b[1;33m.\u001b[0m\u001b[0m_stateless_fn\u001b[0m\u001b[1;33m(\u001b[0m\u001b[1;33m*\u001b[0m\u001b[0margs\u001b[0m\u001b[1;33m,\u001b[0m \u001b[1;33m**\u001b[0m\u001b[0mkwds\u001b[0m\u001b[1;33m)\u001b[0m  \u001b[1;31m# pylint: disable=not-callable\u001b[0m\u001b[1;33m\u001b[0m\u001b[1;33m\u001b[0m\u001b[0m\n\u001b[0m\u001b[0;32m    918\u001b[0m     \u001b[1;32melif\u001b[0m \u001b[0mself\u001b[0m\u001b[1;33m.\u001b[0m\u001b[0m_stateful_fn\u001b[0m \u001b[1;32mis\u001b[0m \u001b[1;32mnot\u001b[0m \u001b[1;32mNone\u001b[0m\u001b[1;33m:\u001b[0m\u001b[1;33m\u001b[0m\u001b[1;33m\u001b[0m\u001b[0m\n\u001b[0;32m    919\u001b[0m       \u001b[1;31m# Release the lock early so that multiple threads can perform the call\u001b[0m\u001b[1;33m\u001b[0m\u001b[1;33m\u001b[0m\u001b[1;33m\u001b[0m\u001b[0m\n",
      "\u001b[1;31mTypeError\u001b[0m: 'NoneType' object is not callable"
     ]
    }
   ],
   "source": [
    "Model_A.fit(dataset_A, batch_size=batch_size, epochs=100, callbacks=[Monitor_A()])"
   ]
  },
  {
   "cell_type": "code",
   "execution_count": null,
   "metadata": {},
   "outputs": [],
   "source": [
    "plt.plot(history.history[\"loss\"], label=\"Training Loss\")\n",
    "plt.plot(history.history[\"val_loss\"], label=\"Validation Loss\")\n",
    "plt.legend()"
   ]
  },
  {
   "cell_type": "code",
   "execution_count": null,
   "metadata": {},
   "outputs": [],
   "source": [
    "with tf.device('/gpu:0'):\n",
    "    history = Model_B.fit(dataset_B_train, batch_size=batch_size, epochs=100, callbacks=[Monitor_A], validation_data=dataset_B_test)"
   ]
  },
  {
   "cell_type": "markdown",
   "metadata": {},
   "source": [
    "![](/Experiment1abstract.jpg?raw=true)"
   ]
  }
 ],
 "metadata": {
  "interpreter": {
   "hash": "1d5c1156327dacead463cc502c55ebae8ce9c8c01979cf154173ff808e75bf55"
  },
  "kernelspec": {
   "display_name": "Python 3.9.7 64-bit",
   "language": "python",
   "name": "python3"
  },
  "language_info": {
   "codemirror_mode": {
    "name": "ipython",
    "version": 3
   },
   "file_extension": ".py",
   "mimetype": "text/x-python",
   "name": "python",
   "nbconvert_exporter": "python",
   "pygments_lexer": "ipython3",
   "version": "3.9.6"
  },
  "orig_nbformat": 4
 },
 "nbformat": 4,
 "nbformat_minor": 2
}
