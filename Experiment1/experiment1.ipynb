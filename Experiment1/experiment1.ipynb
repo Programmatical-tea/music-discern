{
 "cells": [
  {
   "cell_type": "markdown",
   "metadata": {},
   "source": [
    "## Experiment 1: (2022-07-28~)\n",
    "- - -\n",
    "#### 0. Preprocessing / (Done on seperate file)\n",
    "Urbansound8k Dataset i){8732(<=4s).wav files/10 folders(must be separated)} => Noise data    \n",
    "MTG-jamendo Dataset i){}=> Music data   \n",
    "For easy labeling, we need to save the labels along with the data ( X.npy = [ data , label ] )\n",
    "\n",
    "#### 1. Initialize input pipeline\n",
    "\n",
    "\n",
    "#### 2. Model initialization\n",
    "\n",
    "\n",
    "#### 3. Training & Evaluation\n",
    "\n",
    "- - -"
   ]
  },
  {
   "cell_type": "code",
   "execution_count": 3,
   "metadata": {},
   "outputs": [],
   "source": [
    "import os\n",
    "import numpy as np\n",
    "import matplotlib.pyplot as plt\n",
    " \n",
    "import tensorflow as tf\n",
    "from tensorflow import keras\n",
    "from tensorflow.keras import layers, losses\n",
    "\n",
    "import pathlib\n",
    "\n",
    "import librosa\n",
    "\n",
    "from IPython.display import clear_output\n",
    "\n",
    "autotune = tf.data.AUTOTUNE"
   ]
  },
  {
   "cell_type": "code",
   "execution_count": 4,
   "metadata": {},
   "outputs": [
    {
     "name": "stdout",
     "output_type": "stream",
     "text": [
      "1 Physical GPUs, 1 Logical GPUs\n"
     ]
    }
   ],
   "source": [
    "gpus = tf.config.experimental.list_physical_devices('GPU')\n",
    "if gpus:\n",
    "    try:\n",
    "        # Currently, memory growth needs to be the same across GPUs\n",
    "        for gpu in gpus:\n",
    "            tf.config.experimental.set_memory_growth(gpu, True)\n",
    "            #tf.config.experimental.set_virtual_device_configuration(gpu, [tf.config.experimental.VirtualDeviceConfiguration(memory_limit=1024*11)])\n",
    "        logical_gpus = tf.config.experimental.list_logical_devices('GPU')\n",
    "        print(len(gpus), \"Physical GPUs,\", len(logical_gpus), \"Logical GPUs\")\n",
    "    except RuntimeError as e:\n",
    "        # Memory growth must be set before GPUs have been initialized\n",
    "        print(e)"
   ]
  },
  {
   "cell_type": "markdown",
   "metadata": {},
   "source": [
    "## 1. Initializing Input Pipeline   \n",
    "(planned 22.08.08)   \n",
    "* First define the raw tf.data.Datasets.   \n",
    "* Make a function that preprocesses the training datasets.\n",
    "* Use tf.data.Dataset.map to create the fully processed dataset.\n",
    "* Then make a function that finds the labels for each of the training datasets.   \n",
    "* Use tf.data.Dataset.map to create the label Dataset.   \n",
    "* Then combine them with tf.data.Dataset.zip.   \n",
    "* Then Shuffle & Configure for performance"
   ]
  },
  {
   "cell_type": "code",
   "execution_count": 5,
   "metadata": {},
   "outputs": [],
   "source": [
    "IMAGE_SIZE = 513*345\n",
    "IMAGE_DIM = [513,345,1]\n",
    "\n",
    "# Training\n",
    "batch_size = 1"
   ]
  },
  {
   "cell_type": "code",
   "execution_count": 6,
   "metadata": {},
   "outputs": [
    {
     "name": "stdout",
     "output_type": "stream",
     "text": [
      "[WindowsPath('D:/전재원졸업연구/music-discern/Datasets/Urbansound8K/processed/fold1'), WindowsPath('D:/전재원졸업연구/music-discern/Datasets/Urbansound8K/processed/fold2'), WindowsPath('D:/전재원졸업연구/music-discern/Datasets/Urbansound8K/processed/fold3'), WindowsPath('D:/전재원졸업연구/music-discern/Datasets/Urbansound8K/processed/fold4')]\n",
      "[WindowsPath('D:/전재원졸업연구/music-discern/Datasets/MTGJamendo/processed/fold1'), WindowsPath('D:/전재원졸업연구/music-discern/Datasets/MTGJamendo/processed/fold2'), WindowsPath('D:/전재원졸업연구/music-discern/Datasets/MTGJamendo/processed/fold3'), WindowsPath('D:/전재원졸업연구/music-discern/Datasets/MTGJamendo/processed/fold4')]\n"
     ]
    }
   ],
   "source": [
    "base_path = pathlib.Path('D:/전재원졸업연구/music-discern/') # Edit on other computers\n",
    "base_path_dataset = pathlib.Path('D:/전재원졸업연구/music-discern/Datasets/') # Edit on other computers\n",
    "\n",
    "#Urbansound is nested in Datasets/Urbansound8K/audio/fold**\n",
    "#Urbansound is already separated into batches, which need to be preserved.\n",
    "urban_metadata_path = pathlib.Path(base_path_dataset/'Urbansound8K/metadata')\n",
    "urban_audio_folders_path = pathlib.Path(base_path_dataset/'Urbansound8K/processed')\n",
    "urban_audio_path_list = [x for x in urban_audio_folders_path.iterdir()]\n",
    "temp = urban_audio_path_list.pop(1)\n",
    "urban_audio_path_list.append(temp)\n",
    "urban_audio_path_list = urban_audio_path_list[:4]\n",
    "#Jamendo is nested in Datasets/MTGJamendo/audio\n",
    "#Jamendo is not separated in batches, so we need to separate it into 10 batches, matching urbansound.\n",
    "jamendo_metadata_path = pathlib.Path(base_path_dataset/'MTGJamendo/metadata')\n",
    "jamendo_audio_folders_path = pathlib.Path(base_path_dataset/'MTGJamendo/processed')\n",
    "jamendo_audio_path_list = [x for x in jamendo_audio_folders_path.iterdir()]\n",
    "temp = jamendo_audio_path_list.pop(1)\n",
    "jamendo_audio_path_list.append(temp)\n",
    "jamendo_audio_path_list = jamendo_audio_path_list[:4]\n",
    "\n",
    "#for later -> add a path for any .wav file that I want to observe.\n",
    "test_subjects_path = pathlib.Path(\"./\")\n",
    "\n",
    "save_weights_path = pathlib.Path(base_path/'Experiment1/model_checkpoints')\n",
    "save_weights_A_path = pathlib.Path(save_weights_path/'model_A')\n",
    "save_weights_B_path = pathlib.Path(save_weights_path/'model_B')\n",
    "\n",
    "Train = [0,1,2]\n",
    "Test = [3] #Seperation, for later evaluation in Training step B\n",
    "\n",
    "print(urban_audio_path_list)\n",
    "print(jamendo_audio_path_list)"
   ]
  },
  {
   "cell_type": "code",
   "execution_count": 7,
   "metadata": {},
   "outputs": [],
   "source": [
    "dataset_for_training_A = \"empty\"\n",
    "dataset_for_training_B_train = \"empty\"\n",
    "dataset_for_training_B_test = \"empty\"\n",
    "\n",
    "dataset_for_training_A = tf.data.Dataset.list_files(str(urban_audio_folders_path/'*/*.npy'))\n",
    "dataset_for_training_A = dataset_for_training_A.concatenate( tf.data.Dataset.list_files(str(jamendo_audio_folders_path/'*/*.npy')) )\n",
    "\n",
    "for k in Train:\n",
    "    temp_path_urban = str(urban_audio_path_list[k])\n",
    "    temp_path_jam = str(jamendo_audio_path_list[k])\n",
    "    if dataset_for_training_B_train == \"empty\":\n",
    "        dataset_for_training_B_train = tf.data.Dataset.list_files(temp_path_urban + '/*.npy')\n",
    "        dataset_for_training_B_train = dataset_for_training_B_train.concatenate( tf.data.Dataset.list_files(temp_path_jam + '/*.npy') )\n",
    "    else:\n",
    "        dataset_for_training_B_train = dataset_for_training_B_train.concatenate( tf.data.Dataset.list_files(temp_path_urban + '/*.npy') )\n",
    "        dataset_for_training_B_train = dataset_for_training_B_train.concatenate( tf.data.Dataset.list_files(temp_path_jam + '/*.npy') )\n",
    "\n",
    "for k in Test:\n",
    "    temp_path_urban = str(urban_audio_path_list[k])\n",
    "    temp_path_jam = str(jamendo_audio_path_list[k])\n",
    "    if dataset_for_training_B_test == \"empty\":\n",
    "        dataset_for_training_B_test = tf.data.Dataset.list_files(temp_path_urban + '/*.npy')\n",
    "        dataset_for_training_B_test = dataset_for_training_B_test.concatenate( tf.data.Dataset.list_files(temp_path_jam + '/*.npy') )\n",
    "    else:\n",
    "        dataset_for_training_B_test = dataset_for_training_B_test.concatenate( tf.data.Dataset.list_files(temp_path_urban + '/*.npy') )\n",
    "        dataset_for_training_B_test = dataset_for_training_B_test.concatenate( tf.data.Dataset.list_files(temp_path_jam + '/*.npy') )\n",
    "\n",
    "# returns dataset for training A, dataset for training B Train, dataset for training B Test"
   ]
  },
  {
   "cell_type": "code",
   "execution_count": 8,
   "metadata": {},
   "outputs": [
    {
     "name": "stdout",
     "output_type": "stream",
     "text": [
      "tf.Tensor(b'D:\\\\\\xec\\xa0\\x84\\xec\\x9e\\xac\\xec\\x9b\\x90\\xec\\xa1\\xb8\\xec\\x97\\x85\\xec\\x97\\xb0\\xea\\xb5\\xac\\\\music-discern\\\\Datasets\\\\Urbansound8K\\\\processed\\\\fold10\\\\180127-4-0-1_noise_0.npy', shape=(), dtype=string)\n",
      "tf.Tensor(b'noise', shape=(), dtype=string)\n",
      "complex64\n",
      "tf.Tensor(\n",
      "[[ 3.50085385e-02+0.0000000e+00j  5.02819344e-02-2.1028942e-01j\n",
      "   5.74264705e-01+4.0884653e-01j ...  1.63896400e-02-1.3452653e-02j\n",
      "  -8.55796319e-03+2.1257186e-02j  1.00550218e-03-1.3767668e-02j]\n",
      " [-7.13702897e-03+7.6926346e-03j  1.15916887e-02-1.1925502e-02j\n",
      "  -9.76558588e-03+1.5707988e-02j ...  3.32758754e-01+2.8869955e-02j\n",
      "  -2.64837116e-01+1.2721957e-01j  1.07951805e-01-3.2055101e-01j]\n",
      " [ 3.34987836e-03+3.4452245e-01j -3.83727588e-02-2.3163638e-01j\n",
      "   4.20296192e-02+7.8344174e-02j ...  1.53636014e+00+1.2098880e-01j\n",
      "  -1.81544614e+00-6.1716497e-01j  1.78939140e+00-1.9770777e-02j]\n",
      " ...\n",
      " [-2.29853704e-05-1.4854236e-05j  9.01706244e-06+1.3912247e-05j\n",
      "   9.99756503e-06+1.0044856e-05j ...  6.09892653e-03+2.1357394e-03j\n",
      "   6.98160473e-03-7.6431599e-03j -5.30440640e-03+1.4284568e-02j]\n",
      " [-3.81520204e-03-3.0985214e-03j  8.07108171e-03-5.5041690e-03j\n",
      "  -9.34728794e-03+6.9899382e-03j ...  1.08695373e-01-1.6174811e-01j\n",
      "  -1.70451868e-02+2.2839142e-01j  1.31075263e-01-5.0901914e-01j]\n",
      " [-4.35054332e-01+3.6020026e-01j  2.46040761e-01+8.4255971e-03j\n",
      "   1.28266856e-01+2.7522206e-02j ... -7.24194746e-04+7.2147152e-03j\n",
      "  -4.84880246e-03-5.3674607e-03j  7.23145762e-03+0.0000000e+00j]], shape=(513, 345), dtype=complex64)\n"
     ]
    }
   ],
   "source": [
    "for f in dataset_for_training_A.take(1):\n",
    "    print(f)\n",
    "    print(tf.strings.split( tf.strings.split( f,os.sep )[-1],sep=\"_\" )[1])\n",
    "    A = np.load(f.numpy(),allow_pickle=True)\n",
    "    print(A.dtype)\n",
    "    img = tf.io.read_file(f)\n",
    "    img = tf.io.decode_raw(img,tf.complex64)\n",
    "    img = tf.slice(img,begin=[16],size=[IMAGE_SIZE])\n",
    "    img = tf.reshape(img,[513,345])\n",
    "    print(img)"
   ]
  },
  {
   "cell_type": "code",
   "execution_count": 9,
   "metadata": {},
   "outputs": [],
   "source": [
    "def process_image(image):\n",
    "    #make the images into spectrograms\n",
    "    processed_img = tf.pow(tf.abs(image),2)\n",
    "    #normalize the images?\n",
    "    return processed_img\n",
    "\n",
    "def process_path_A(path):\n",
    "    #for training A, the label is just itself so we need to take that into account\n",
    "    img = tf.io.read_file(path)\n",
    "    img = tf.io.decode_raw(img,tf.complex64)\n",
    "    img = tf.slice(img,begin=[1024//64],size=[IMAGE_SIZE]) # begin <- 1024//complex64\n",
    "    img = tf.reshape(img,IMAGE_DIM)\n",
    "    img = process_image(img)\n",
    "\n",
    "    label = img\n",
    "    return img, label\n",
    "\n",
    "def process_path_B(path): #map_func\n",
    "    #extract the 2d array and the label\n",
    "    img = tf.io.read_file(path)\n",
    "    img = tf.io.decode_raw(img,tf.complex64)\n",
    "    img = tf.slice(img,begin=[1024//64],size=[IMAGE_SIZE]) # begin <- 1024//complex64\n",
    "    img = tf.reshape(img,IMAGE_DIM)\n",
    "    img = process_image(img)\n",
    "\n",
    "    label = tf.strings.split( tf.strings.split( path, os.sep )[-1],sep=\"_\" )[1]\n",
    "    return img, label"
   ]
  },
  {
   "cell_type": "code",
   "execution_count": 10,
   "metadata": {},
   "outputs": [],
   "source": [
    "dataset_A = dataset_for_training_A.map(process_path_A,num_parallel_calls=autotune)\n",
    "dataset_B_train = dataset_for_training_B_train.map(process_path_B,num_parallel_calls=autotune)\n",
    "dataset_B_test = dataset_for_training_B_test.map(process_path_B,num_parallel_calls=autotune)"
   ]
  },
  {
   "cell_type": "code",
   "execution_count": 11,
   "metadata": {},
   "outputs": [
    {
     "data": {
      "text/plain": [
       "<tf.Tensor: shape=(513, 345, 1), dtype=float32, numpy=\n",
       "array([[[1.6570969e+01],\n",
       "        [1.0323366e+01],\n",
       "        [4.1558967e+00],\n",
       "        ...,\n",
       "        [2.9841438e-01],\n",
       "        [5.4224229e-01],\n",
       "        [3.8677505e-01]],\n",
       "\n",
       "       [[4.3974679e-02],\n",
       "        [1.3621521e-01],\n",
       "        [6.9864291e-01],\n",
       "        ...,\n",
       "        [2.1945457e-01],\n",
       "        [3.9285794e-02],\n",
       "        [8.5890628e-02]],\n",
       "\n",
       "       [[1.9103150e-01],\n",
       "        [1.2896417e-01],\n",
       "        [1.6353089e-01],\n",
       "        ...,\n",
       "        [2.0201962e+00],\n",
       "        [3.1482032e-01],\n",
       "        [4.9994022e-01]],\n",
       "\n",
       "       ...,\n",
       "\n",
       "       [[4.0755740e-06],\n",
       "        [2.0549001e-06],\n",
       "        [9.3162220e-07],\n",
       "        ...,\n",
       "        [1.2263738e-01],\n",
       "        [2.2376251e-01],\n",
       "        [1.5041600e-01]],\n",
       "\n",
       "       [[2.6261935e-02],\n",
       "        [4.0671583e-02],\n",
       "        [3.7511032e-02],\n",
       "        ...,\n",
       "        [8.3220236e-02],\n",
       "        [3.9504219e-02],\n",
       "        [1.0595024e-02]],\n",
       "\n",
       "       [[2.2422839e-02],\n",
       "        [5.6521870e-02],\n",
       "        [5.4926306e-02],\n",
       "        ...,\n",
       "        [5.6126269e-06],\n",
       "        [1.0301598e-05],\n",
       "        [1.2769534e-05]]], dtype=float32)>"
      ]
     },
     "execution_count": 11,
     "metadata": {},
     "output_type": "execute_result"
    }
   ],
   "source": [
    "next(iter(dataset_A))[1]"
   ]
  },
  {
   "cell_type": "code",
   "execution_count": 12,
   "metadata": {},
   "outputs": [],
   "source": [
    "def configure_for_performance(ds):\n",
    "    ds = ds.cache()\n",
    "    ds = ds.batch(batch_size)\n",
    "    ds = ds.prefetch(buffer_size=autotune)\n",
    "    return ds\n",
    "\n",
    "dataset_A = configure_for_performance(dataset_A)\n",
    "dataset_B_test = configure_for_performance(dataset_B_test)\n",
    "dataset_B_train = configure_for_performance(dataset_B_train)"
   ]
  },
  {
   "cell_type": "code",
   "execution_count": 13,
   "metadata": {},
   "outputs": [
    {
     "name": "stdout",
     "output_type": "stream",
     "text": [
      "(1, 513, 345, 1)\n",
      "(1, 256, 172, 16)\n",
      "(1, 128, 86, 8)\n",
      "(1, 257, 173, 8)\n",
      "(1, 515, 347, 16)\n",
      "(1, 513, 345, 1)\n",
      "(1, 513, 345, 1)\n"
     ]
    }
   ],
   "source": [
    "\n",
    "a = layers.Conv2D(16, (3,3), activation='relu', padding='valid', strides=2)\n",
    "b = layers.Conv2D(8, (3,3), activation='relu', padding='same', strides=2)\n",
    "c = layers.Conv2DTranspose(8, kernel_size=3, strides=2, activation='relu', padding='valid')\n",
    "d = layers.Conv2DTranspose(16, kernel_size=3, strides=2, activation='relu', padding='valid')\n",
    "e = layers.Conv2D(1, kernel_size=(3,3), activation='sigmoid', padding='valid')\n",
    "\n",
    "input_shape = (1,513,345,1)\n",
    "x = tf.random.normal(input_shape)\n",
    "\n",
    "print(input_shape)\n",
    "y = a(x)\n",
    "print(y.shape)\n",
    "y = b(y)\n",
    "print(y.shape)\n",
    "y = c(y)\n",
    "print(y.shape)\n",
    "y = d(y)\n",
    "print(y.shape)\n",
    "y = e(y)\n",
    "print(y.shape)\n",
    "y = e(d(c(b(a(x)))))\n",
    "print(y.shape)"
   ]
  },
  {
   "cell_type": "markdown",
   "metadata": {},
   "source": [
    "## 2. Model initialization"
   ]
  },
  {
   "cell_type": "code",
   "execution_count": 14,
   "metadata": {},
   "outputs": [],
   "source": [
    "class Autoencoder(tf.keras.Model):\n",
    "#when the input shape is an odd number, even number of strides coupled with 'same' padding makes the output shape different from the imput shape.\n",
    "#Therefore by trial and error this valid, same, valid, valid, valid padding structure was found, not sure if it is accurate\n",
    "    def __init__(self):\n",
    "        super(Autoencoder, self).__init__()\n",
    "        self.encoder = tf.keras.Sequential([\n",
    "            layers.InputLayer(input_shape = IMAGE_DIM , batch_size= batch_size),\n",
    "            layers.Conv2D(16, (3,3), activation='relu', padding='valid', strides=2),\n",
    "            layers.Conv2D(8, (3,3), activation='relu', padding='same', strides=2), \n",
    "        ])\n",
    "        self.decoder = tf.keras.Sequential([\n",
    "            layers.Conv2DTranspose(8, kernel_size=3, strides=2, activation='relu', padding='valid'),\n",
    "            layers.Conv2DTranspose(16, kernel_size=3, strides=2, activation='relu', padding='valid'),\n",
    "            layers.Conv2D(1, kernel_size=(3,3), activation='sigmoid', padding='valid') \n",
    "        ])\n",
    "    \n",
    "    def __call__(self, x, training=False):\n",
    "        encoded = self.encoder(x)\n",
    "        decoded = self.decoder(encoded)\n",
    "        return decoded\n",
    "    \n",
    "Model_A = Autoencoder()"
   ]
  },
  {
   "cell_type": "code",
   "execution_count": 15,
   "metadata": {},
   "outputs": [],
   "source": [
    "class Classifier(tf.keras.Model):\n",
    "\n",
    "    def __init__(self, Model_A):\n",
    "        super(Classifier, self).__init__()\n",
    "        #comes after the encoding\n",
    "        self.classifer_layer = tf.keras.Sequential([\n",
    "            layers.InputLayer(input_shape=[129,87,8], batch_size= batch_size),\n",
    "            layers.Conv2D(8, (3,3), activation='relu', padding='same', strides=2),\n",
    "            layers.Conv2D(4, (3,3), activation='relu', padding='same', strides=2),\n",
    "            layers.Conv2D(2, (3,3), activation='relu', padding='same', strides=2),\n",
    "            layers.Conv2D(1, (3,3), activation='relu', padding='same', strides=2),\n",
    "            layers.Flatten(),\n",
    "            layers.Dense(16, activation='relu'),\n",
    "            layers.Dense(1, activation='softmax')\n",
    "        ])\n",
    "        self.Model_A = Model_A.encoder # Probablility of deepcopy, not sure. If accuracy is terrible this may be the suspect\n",
    "\n",
    "    def __call__(self,x):\n",
    "        compressed = self.Model_A(x)\n",
    "        return self.classifer_layer(compressed)\n",
    "\n",
    "Model_B = Classifier(Model_A)"
   ]
  },
  {
   "cell_type": "code",
   "execution_count": 16,
   "metadata": {},
   "outputs": [],
   "source": [
    "Model_A.compile(optimizer=tf.keras.optimizers.Adam(learning_rate=1e-5), loss=tf.keras.losses.MeanSquaredError())"
   ]
  },
  {
   "cell_type": "code",
   "execution_count": 17,
   "metadata": {},
   "outputs": [],
   "source": [
    "Model_B.compile(optimizer='adam',\n",
    "              loss='sparse_categorical_crossentropy',\n",
    "              metrics=['accuracy'])"
   ]
  },
  {
   "cell_type": "code",
   "execution_count": 18,
   "metadata": {},
   "outputs": [],
   "source": [
    "# Create a callback function that saves the weights periodically, and shows the reconstructed images periodically\n",
    "class Monitor_A(keras.callbacks.Callback):\n",
    "    \n",
    "    def on_epoch_end(self, epoch, logs=None):\n",
    "        _, ax = plt.subplots(1,2, figsize=(21,7))\n",
    "        for k,k in dataset_A.take(1):\n",
    "            changed = self.model(k)\n",
    "            clear_output(wait=True)\n",
    "            ax[0, 0].imshow(k)\n",
    "            ax[0, 1].imshow(changed)\n",
    "            ax[0, 0].set_title(\"Input image\")\n",
    "            ax[0, 1].set_title(\"Translated image\")\n",
    "            ax[0, 0].axis(\"off\")\n",
    "            ax[0, 1].axis(\"off\")\n",
    "        \n",
    "        if (epoch) % 5 == 0:\n",
    "            self.model.save_weights(pathlib.Path(save_weights_A_path/\"{epoch:04}.h5\"))\n",
    "    \n",
    "        plt.show()\n",
    "        plt.close()"
   ]
  },
  {
   "cell_type": "code",
   "execution_count": 19,
   "metadata": {},
   "outputs": [],
   "source": [
    "# Create a callback function that saves the weights periodically, and shows the reconstructed images periodically\n",
    "class Monitor_B(keras.callbacks.Callback):\n",
    "    def on_epoch_end(self, epoch, logs=None):\n",
    "        \n",
    "        if (epoch) % 5 == 0:\n",
    "            self.model.save_weights(pathlib.Path(save_weights_B_path/\"{epoch:04}.h5\"))\n"
   ]
  },
  {
   "cell_type": "markdown",
   "metadata": {},
   "source": [
    "## 3. Training & Evaluation"
   ]
  },
  {
   "cell_type": "code",
   "execution_count": null,
   "metadata": {},
   "outputs": [],
   "source": [
    "with tf.device('/gpu:0'):\n",
    "    history = Model_A.fit(dataset_A, batch_size=batch_size, epochs=100, callbacks=[Monitor_A()])"
   ]
  },
  {
   "cell_type": "code",
   "execution_count": null,
   "metadata": {},
   "outputs": [],
   "source": [
    "Model_A.fit(dataset_A, batch_size=batch_size, epochs=100, callbacks=[Monitor_A()])"
   ]
  },
  {
   "cell_type": "code",
   "execution_count": null,
   "metadata": {},
   "outputs": [],
   "source": [
    "plt.plot(history.history[\"loss\"], label=\"Training Loss\")\n",
    "plt.plot(history.history[\"val_loss\"], label=\"Validation Loss\")\n",
    "plt.legend()"
   ]
  },
  {
   "cell_type": "code",
   "execution_count": null,
   "metadata": {},
   "outputs": [],
   "source": [
    "with tf.device('/gpu:0'):\n",
    "    history = Model_B.fit(dataset_B_train, batch_size=batch_size, epochs=100, callbacks=[Monitor_A], validation_data=dataset_B_test)"
   ]
  },
  {
   "cell_type": "markdown",
   "metadata": {},
   "source": [
    "![](/Experiment1abstract.jpg?raw=true)"
   ]
  }
 ],
 "metadata": {
  "kernelspec": {
   "display_name": "Python 3.9.12 ('env-01')",
   "language": "python",
   "name": "python3"
  },
  "language_info": {
   "codemirror_mode": {
    "name": "ipython",
    "version": 3
   },
   "file_extension": ".py",
   "mimetype": "text/x-python",
   "name": "python",
   "nbconvert_exporter": "python",
   "pygments_lexer": "ipython3",
   "version": "3.9.12"
  },
  "orig_nbformat": 4,
  "vscode": {
   "interpreter": {
    "hash": "dcaed70559e8f69ac2eadd1cd01935d87e05766540bd1f7bf5627d7539e6000b"
   }
  }
 },
 "nbformat": 4,
 "nbformat_minor": 2
}
