{
 "cells": [
  {
   "cell_type": "markdown",
   "metadata": {},
   "source": [
    "# Requirements"
   ]
  },
  {
   "cell_type": "code",
   "execution_count": 4,
   "metadata": {},
   "outputs": [],
   "source": [
    "import os,sys\n",
    "\n",
    "import numpy as np\n",
    "\n",
    "import librosa\n",
    "import librosa.display\n",
    "\n",
    "import tensorflow as tf\n",
    "from tensorflow import keras\n",
    "\n",
    "import matplotlib.pyplot as plt\n",
    "\n",
    "import pandas as pd\n",
    "from tqdm import trange\n",
    "import librosa\n",
    "import tqdm\n",
    "from sklearn.model_selection import KFold\n",
    "\n",
    "from datetime import datetime\n",
    "\n",
    "import pathlib"
   ]
  },
  {
   "cell_type": "markdown",
   "metadata": {},
   "source": [
    "#### Used for listening to audio samples in ipynb"
   ]
  },
  {
   "cell_type": "code",
   "execution_count": 2,
   "metadata": {},
   "outputs": [],
   "source": [
    "import IPython.display\n",
    "import numpy as np\n",
    "import json\n",
    "\n",
    "def Audio(audio: np.ndarray, sr: int):\n",
    "    \"\"\"\n",
    "    Use instead of IPython.display.Audio as a workaround for VS Code.\n",
    "    `audio` is an array with shape (channels, samples) or just (samples,) for mono.\n",
    "    \"\"\"\n",
    "\n",
    "    if np.ndim(audio) == 1:\n",
    "        channels = [audio.tolist()]\n",
    "    else:\n",
    "        channels = audio.tolist()\n",
    "\n",
    "    return IPython.display.HTML(\"\"\"\n",
    "        <script>\n",
    "            if (!window.audioContext) {\n",
    "                window.audioContext = new AudioContext();\n",
    "                window.playAudio = function(audioChannels, sr) {\n",
    "                    const buffer = audioContext.createBuffer(audioChannels.length, audioChannels[0].length, sr);\n",
    "                    for (let [channel, data] of audioChannels.entries()) {\n",
    "                        buffer.copyToChannel(Float32Array.from(data), channel);\n",
    "                    }\n",
    "            \n",
    "                    const source = audioContext.createBufferSource();\n",
    "                    source.buffer = buffer;\n",
    "                    source.connect(audioContext.destination);\n",
    "                    source.start();\n",
    "                }\n",
    "            }\n",
    "        </script>\n",
    "        <button onclick=\"playAudio(%s, %s)\">Play</button>\n",
    "    \"\"\" % (json.dumps(channels), sr))"
   ]
  },
  {
   "cell_type": "markdown",
   "metadata": {},
   "source": [
    "# Setting Path variables"
   ]
  },
  {
   "cell_type": "code",
   "execution_count": 11,
   "metadata": {},
   "outputs": [],
   "source": [
    "base_path = pathlib.Path('D:/전재원졸업연구/music-discern/Datasets/')\n",
    "\n",
    "#Urbansound is nested in Datasets/Urbansound8K/audio/fold**\n",
    "#Urbansound is already separated into batches, which need to be preserved.\n",
    "urban_metadata_path = pathlib.Path(base_path/'Urbansound8K/metadata')\n",
    "urban_audio_folders_path = pathlib.Path(base_path/'Urbansound8K/audio')\n",
    "urban_audio_path_list = [x for x in urban_audio_folders_path.iterdir()][1:] #remove .DS_Store\n",
    "\n",
    "#Jamendo is nested in Datasets/MTGJamendo/audio\n",
    "#Jamendo is not separated in batches, so we need to separate it into 10 batches, matching urbansound.\n",
    "jamendo_metadata_path = pathlib.Path(base_path/'MTGJamendo/metadata')\n",
    "jamendo_audio_path = pathlib.Path(base_path/'MTGJamendo/audio')\n",
    "\n",
    "#for later -> add a path for any .wav file that I want to observe.\n",
    "test_subjects_path = pathlib.Path(\"./\")\n"
   ]
  },
  {
   "cell_type": "markdown",
   "metadata": {},
   "source": [
    "# Loading and Checking audio/metadata files"
   ]
  },
  {
   "cell_type": "markdown",
   "metadata": {},
   "source": [
    "### Metadata"
   ]
  },
  {
   "cell_type": "code",
   "execution_count": 29,
   "metadata": {},
   "outputs": [
    {
     "name": "stdout",
     "output_type": "stream",
     "text": [
      "[WindowsPath('D:/전재원졸업연구/music-discern/Datasets/Urbansound8K/metadata/.DS_Store'), WindowsPath('D:/전재원졸업연구/music-discern/Datasets/Urbansound8K/metadata/UrbanSound8K.csv')]\n",
      "[WindowsPath('D:/전재원졸업연구/music-discern/Datasets/MTGJamendo/metadata/raw_30s_cleantags.tsv')]\n"
     ]
    }
   ],
   "source": [
    "print(sorted(urban_metadata_path.glob(\"*\")))\n",
    "print(sorted(jamendo_metadata_path.glob(\"*\")))"
   ]
  },
  {
   "cell_type": "code",
   "execution_count": 43,
   "metadata": {},
   "outputs": [
    {
     "data": {
      "text/html": [
       "<div>\n",
       "<style scoped>\n",
       "    .dataframe tbody tr th:only-of-type {\n",
       "        vertical-align: middle;\n",
       "    }\n",
       "\n",
       "    .dataframe tbody tr th {\n",
       "        vertical-align: top;\n",
       "    }\n",
       "\n",
       "    .dataframe thead th {\n",
       "        text-align: right;\n",
       "    }\n",
       "</style>\n",
       "<table border=\"1\" class=\"dataframe\">\n",
       "  <thead>\n",
       "    <tr style=\"text-align: right;\">\n",
       "      <th></th>\n",
       "      <th>slice_file_name</th>\n",
       "      <th>fsID</th>\n",
       "      <th>start</th>\n",
       "      <th>end</th>\n",
       "      <th>salience</th>\n",
       "      <th>fold</th>\n",
       "      <th>classID</th>\n",
       "      <th>class</th>\n",
       "    </tr>\n",
       "  </thead>\n",
       "  <tbody>\n",
       "    <tr>\n",
       "      <th>0</th>\n",
       "      <td>100032-3-0-0.wav</td>\n",
       "      <td>100032</td>\n",
       "      <td>0.0</td>\n",
       "      <td>0.317551</td>\n",
       "      <td>1</td>\n",
       "      <td>5</td>\n",
       "      <td>3</td>\n",
       "      <td>dog_bark</td>\n",
       "    </tr>\n",
       "    <tr>\n",
       "      <th>1</th>\n",
       "      <td>100263-2-0-117.wav</td>\n",
       "      <td>100263</td>\n",
       "      <td>58.5</td>\n",
       "      <td>62.500000</td>\n",
       "      <td>1</td>\n",
       "      <td>5</td>\n",
       "      <td>2</td>\n",
       "      <td>children_playing</td>\n",
       "    </tr>\n",
       "    <tr>\n",
       "      <th>2</th>\n",
       "      <td>100263-2-0-121.wav</td>\n",
       "      <td>100263</td>\n",
       "      <td>60.5</td>\n",
       "      <td>64.500000</td>\n",
       "      <td>1</td>\n",
       "      <td>5</td>\n",
       "      <td>2</td>\n",
       "      <td>children_playing</td>\n",
       "    </tr>\n",
       "    <tr>\n",
       "      <th>3</th>\n",
       "      <td>100263-2-0-126.wav</td>\n",
       "      <td>100263</td>\n",
       "      <td>63.0</td>\n",
       "      <td>67.000000</td>\n",
       "      <td>1</td>\n",
       "      <td>5</td>\n",
       "      <td>2</td>\n",
       "      <td>children_playing</td>\n",
       "    </tr>\n",
       "    <tr>\n",
       "      <th>4</th>\n",
       "      <td>100263-2-0-137.wav</td>\n",
       "      <td>100263</td>\n",
       "      <td>68.5</td>\n",
       "      <td>72.500000</td>\n",
       "      <td>1</td>\n",
       "      <td>5</td>\n",
       "      <td>2</td>\n",
       "      <td>children_playing</td>\n",
       "    </tr>\n",
       "  </tbody>\n",
       "</table>\n",
       "</div>"
      ],
      "text/plain": [
       "      slice_file_name    fsID  start        end  salience  fold  classID  \\\n",
       "0    100032-3-0-0.wav  100032    0.0   0.317551         1     5        3   \n",
       "1  100263-2-0-117.wav  100263   58.5  62.500000         1     5        2   \n",
       "2  100263-2-0-121.wav  100263   60.5  64.500000         1     5        2   \n",
       "3  100263-2-0-126.wav  100263   63.0  67.000000         1     5        2   \n",
       "4  100263-2-0-137.wav  100263   68.5  72.500000         1     5        2   \n",
       "\n",
       "              class  \n",
       "0          dog_bark  \n",
       "1  children_playing  \n",
       "2  children_playing  \n",
       "3  children_playing  \n",
       "4  children_playing  "
      ]
     },
     "execution_count": 43,
     "metadata": {},
     "output_type": "execute_result"
    }
   ],
   "source": [
    "urban_tags = pd.read_csv(sorted(urban_metadata_path.glob('*'))[1])\n",
    "urban_tags.head()"
   ]
  },
  {
   "cell_type": "code",
   "execution_count": 50,
   "metadata": {},
   "outputs": [
    {
     "name": "stdout",
     "output_type": "stream",
     "text": [
      "Reading: 55701 tracks, 11280 albums, 3573 artists\n"
     ]
    }
   ],
   "source": [
    "#jamendo_tags = pd.read_csv(sorted(jamendo_metadata_path.glob('*'))[0], sep=\"\\t\")\n",
    "#cannot be read in this way, need a special script given by MTG-jamendo on Github\n",
    "import csv\n",
    "from collections import defaultdict\n",
    "\n",
    "CATEGORIES = ['genre', 'instrument', 'mood/theme']\n",
    "TAG_HYPHEN = '---'\n",
    "METADATA_DESCRIPTION = 'TSV file with such columns: TRACK_ID, ARTIST_ID, ALBUM_ID, PATH, DURATION, TAGS'\n",
    "\n",
    "def get_id(value):\n",
    "    return int(value.split('_')[1])\n",
    "\n",
    "def get_length(values):\n",
    "    return len(str(max(values)))\n",
    "\n",
    "def read_file(tsv_file):\n",
    "    tracks = {}\n",
    "    tags = defaultdict(dict)\n",
    "\n",
    "    # For statistics\n",
    "    artist_ids = set()\n",
    "    albums_ids = set()\n",
    "\n",
    "    with open(tsv_file) as fp:\n",
    "        reader = csv.reader(fp, delimiter='\\t')\n",
    "        next(reader, None)  # skip header\n",
    "        for row in reader:\n",
    "            track_id = get_id(row[0])\n",
    "            tracks[track_id] = {\n",
    "                'id': track_id,\n",
    "                'artist_id': get_id(row[1]),\n",
    "                'album_id': get_id(row[2]),\n",
    "                'path': row[3],\n",
    "                'duration': float(row[4]),\n",
    "                'tags': row[5:],  # raw tags, not sure if will be used\n",
    "            }\n",
    "            tracks[track_id].update({category: set() for category in CATEGORIES})\n",
    "\n",
    "            artist_ids.add(get_id(row[1]))\n",
    "            albums_ids.add(get_id(row[2]))\n",
    "\n",
    "            for tag_str in row[5:]:\n",
    "                category, tag = tag_str.split(TAG_HYPHEN)\n",
    "\n",
    "                if tag not in tags[category]:\n",
    "                    tags[category][tag] = set()\n",
    "\n",
    "                tags[category][tag].add(track_id)\n",
    "\n",
    "                if category not in tracks[track_id]:\n",
    "                    tracks[track_id][category] = set()\n",
    "\n",
    "                tracks[track_id][category].update(set(tag.split(\",\")))\n",
    "\n",
    "    print(\"Reading: {} tracks, {} albums, {} artists\".format(len(tracks), len(albums_ids), len(artist_ids)))\n",
    "\n",
    "    extra = {\n",
    "        'track_id_length': get_length(tracks.keys()),\n",
    "        'artist_id_length': get_length(artist_ids),\n",
    "        'album_id_length': get_length(albums_ids)\n",
    "    }\n",
    "    return tracks, tags, extra\n",
    "\n",
    "(tracks,_,_) = read_file(sorted(jamendo_metadata_path.glob('*'))[0])"
   ]
  },
  {
   "cell_type": "code",
   "execution_count": 59,
   "metadata": {},
   "outputs": [
    {
     "data": {
      "text/html": [
       "<div>\n",
       "<style scoped>\n",
       "    .dataframe tbody tr th:only-of-type {\n",
       "        vertical-align: middle;\n",
       "    }\n",
       "\n",
       "    .dataframe tbody tr th {\n",
       "        vertical-align: top;\n",
       "    }\n",
       "\n",
       "    .dataframe thead th {\n",
       "        text-align: right;\n",
       "    }\n",
       "</style>\n",
       "<table border=\"1\" class=\"dataframe\">\n",
       "  <thead>\n",
       "    <tr style=\"text-align: right;\">\n",
       "      <th></th>\n",
       "      <th>id</th>\n",
       "      <th>artist_id</th>\n",
       "      <th>album_id</th>\n",
       "      <th>path</th>\n",
       "      <th>duration</th>\n",
       "      <th>tags</th>\n",
       "      <th>genre</th>\n",
       "      <th>instrument</th>\n",
       "      <th>mood/theme</th>\n",
       "    </tr>\n",
       "  </thead>\n",
       "  <tbody>\n",
       "    <tr>\n",
       "      <th>214</th>\n",
       "      <td>214</td>\n",
       "      <td>14</td>\n",
       "      <td>31</td>\n",
       "      <td>14/214.mp3</td>\n",
       "      <td>124.6</td>\n",
       "      <td>[genre---punkrock]</td>\n",
       "      <td>{punkrock}</td>\n",
       "      <td>{}</td>\n",
       "      <td>{}</td>\n",
       "    </tr>\n",
       "    <tr>\n",
       "      <th>215</th>\n",
       "      <td>215</td>\n",
       "      <td>14</td>\n",
       "      <td>31</td>\n",
       "      <td>15/215.mp3</td>\n",
       "      <td>151.4</td>\n",
       "      <td>[genre---metal]</td>\n",
       "      <td>{metal}</td>\n",
       "      <td>{}</td>\n",
       "      <td>{}</td>\n",
       "    </tr>\n",
       "    <tr>\n",
       "      <th>216</th>\n",
       "      <td>216</td>\n",
       "      <td>14</td>\n",
       "      <td>31</td>\n",
       "      <td>16/216.mp3</td>\n",
       "      <td>234.9</td>\n",
       "      <td>[genre---metal]</td>\n",
       "      <td>{metal}</td>\n",
       "      <td>{}</td>\n",
       "      <td>{}</td>\n",
       "    </tr>\n",
       "    <tr>\n",
       "      <th>217</th>\n",
       "      <td>217</td>\n",
       "      <td>14</td>\n",
       "      <td>31</td>\n",
       "      <td>17/217.mp3</td>\n",
       "      <td>127.9</td>\n",
       "      <td>[genre---punkrock]</td>\n",
       "      <td>{punkrock}</td>\n",
       "      <td>{}</td>\n",
       "      <td>{}</td>\n",
       "    </tr>\n",
       "    <tr>\n",
       "      <th>218</th>\n",
       "      <td>218</td>\n",
       "      <td>14</td>\n",
       "      <td>31</td>\n",
       "      <td>18/218.mp3</td>\n",
       "      <td>180.7</td>\n",
       "      <td>[genre---punkrock]</td>\n",
       "      <td>{punkrock}</td>\n",
       "      <td>{}</td>\n",
       "      <td>{}</td>\n",
       "    </tr>\n",
       "  </tbody>\n",
       "</table>\n",
       "</div>"
      ],
      "text/plain": [
       "      id  artist_id  album_id        path  duration                tags  \\\n",
       "214  214         14        31  14/214.mp3     124.6  [genre---punkrock]   \n",
       "215  215         14        31  15/215.mp3     151.4     [genre---metal]   \n",
       "216  216         14        31  16/216.mp3     234.9     [genre---metal]   \n",
       "217  217         14        31  17/217.mp3     127.9  [genre---punkrock]   \n",
       "218  218         14        31  18/218.mp3     180.7  [genre---punkrock]   \n",
       "\n",
       "          genre instrument mood/theme  \n",
       "214  {punkrock}         {}         {}  \n",
       "215     {metal}         {}         {}  \n",
       "216     {metal}         {}         {}  \n",
       "217  {punkrock}         {}         {}  \n",
       "218  {punkrock}         {}         {}  "
      ]
     },
     "execution_count": 59,
     "metadata": {},
     "output_type": "execute_result"
    }
   ],
   "source": [
    "jamendo_tags = pd.DataFrame.from_dict(tracks,orient='index')\n",
    "jamendo_tags.head()"
   ]
  },
  {
   "cell_type": "markdown",
   "metadata": {},
   "source": [
    "### Audio"
   ]
  },
  {
   "cell_type": "code",
   "execution_count": null,
   "metadata": {},
   "outputs": [],
   "source": []
  },
  {
   "cell_type": "markdown",
   "metadata": {},
   "source": [
    "# Setting Preprocessing variables"
   ]
  },
  {
   "cell_type": "code",
   "execution_count": null,
   "metadata": {},
   "outputs": [],
   "source": []
  },
  {
   "cell_type": "markdown",
   "metadata": {},
   "source": []
  }
 ],
 "metadata": {
  "kernelspec": {
   "display_name": "Python 3.9.6 64-bit",
   "language": "python",
   "name": "python3"
  },
  "language_info": {
   "codemirror_mode": {
    "name": "ipython",
    "version": 3
   },
   "file_extension": ".py",
   "mimetype": "text/x-python",
   "name": "python",
   "nbconvert_exporter": "python",
   "pygments_lexer": "ipython3",
   "version": "3.9.6"
  },
  "orig_nbformat": 4,
  "vscode": {
   "interpreter": {
    "hash": "1d5c1156327dacead463cc502c55ebae8ce9c8c01979cf154173ff808e75bf55"
   }
  }
 },
 "nbformat": 4,
 "nbformat_minor": 2
}
